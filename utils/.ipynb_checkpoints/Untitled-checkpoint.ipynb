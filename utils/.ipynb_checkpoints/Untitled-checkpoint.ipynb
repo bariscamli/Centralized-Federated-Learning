{
 "cells": [
  {
   "cell_type": "code",
   "execution_count": 1,
   "id": "elegant-relative",
   "metadata": {},
   "outputs": [],
   "source": [
    "data = 'mnist'"
   ]
  },
  {
   "cell_type": "code",
   "execution_count": 2,
   "id": "electoral-honduras",
   "metadata": {},
   "outputs": [],
   "source": [
    "import pandas as pd\n",
    "import numpy as np\n",
    "from sklearn.model_selection import StratifiedKFold\n",
    "\n",
    "X = pd.read_csv(f'../data/{data}/train.csv',index_col=0)\n",
    "y = X['label']\n",
    "X.drop('label',inplace=True,axis=1)"
   ]
  },
  {
   "cell_type": "code",
   "execution_count": 3,
   "id": "waiting-monthly",
   "metadata": {},
   "outputs": [],
   "source": [
    "#iid_balanced\n",
    "rand_array = np.array(y.index)\n",
    "np.random.shuffle(rand_array)\n",
    "clients = [[] for i in range(10)]\n",
    "for i in range(10):\n",
    "    clients[i] = list(rand_array[i*5000:(i+1)*5000])\n",
    "    \n",
    "for i in range(10):\n",
    "    y[clients[i]].reset_index(drop=True).to_csv(f'../data/{data}/iid_balanced/client'+str(i+1)+'_y_train.csv')\n",
    "    X.iloc[clients[i]].reset_index(drop=True).to_csv(f'../data/{data}/iid_balanced/client'+str(i+1)+'_X_train.csv')"
   ]
  },
  {
   "cell_type": "code",
   "execution_count": 3,
   "id": "agricultural-boost",
   "metadata": {},
   "outputs": [
    {
     "name": "stdout",
     "output_type": "stream",
     "text": [
      "{0, 1}\n",
      "{0, 1}\n",
      "{2, 3}\n",
      "{2, 3}\n",
      "{4, 5}\n",
      "{4, 5}\n",
      "{6, 7}\n",
      "{6, 7}\n",
      "{8, 9}\n",
      "{8, 9}\n"
     ]
    }
   ],
   "source": [
    "#non-iid_balanced\n",
    "\n",
    "first = []\n",
    "second = []\n",
    "temp_array = np.array_split(y.sort_values(),20)\n",
    "for i in range(len(temp_array)):\n",
    "    if i % 2 == 0:\n",
    "        first.append(temp_array[i])\n",
    "    else:\n",
    "        second.append(temp_array[i])\n",
    "        \n",
    "index_first = 0\n",
    "index_second = 0\n",
    "clients = [[] for i in range(10)]\n",
    "for i in range(10):\n",
    "    if i % 2 == 0:\n",
    "        print(set(np.concatenate((first[index_first], first[index_first+1]), axis=0)))\n",
    "        clients[i] = list(np.concatenate((first[index_first].index, first[index_first+1].index), axis=0))\n",
    "        index_first+=2\n",
    "    else:\n",
    "        print(set(np.concatenate((second[index_second], second[index_second+1]), axis=0)))\n",
    "        clients[i] = list(np.concatenate((second[index_second].index, second[index_second+1].index), axis=0))\n",
    "        index_second+=2\n",
    "        \n",
    "for i in range(10):\n",
    "    y[clients[i]].reset_index(drop=True).to_csv(f'../data/{data}/non_iid_balanced/client'+str(i+1)+'_y_train.csv')\n",
    "    X.iloc[clients[i]].reset_index(drop=True).to_csv(f'../data/{data}/non_iid_balanced/client'+str(i+1)+'_X_train.csv')"
   ]
  },
  {
   "cell_type": "code",
   "execution_count": 4,
   "id": "cloudy-brown",
   "metadata": {},
   "outputs": [
    {
     "name": "stdout",
     "output_type": "stream",
     "text": [
      "2015\n",
      "9985\n",
      "7408\n",
      "4592\n",
      "6987\n",
      "5013\n",
      "7865\n",
      "4135\n",
      "8817\n",
      "3183\n"
     ]
    }
   ],
   "source": [
    "#non-iid unbalanced\n",
    "\n",
    "temp_array = np.array_split(y.sort_values(),10)\n",
    "\n",
    "clients = [[] for i in range(10)]\n",
    "for i in range(0,10,2):\n",
    "    cut = np.random.randint(y.shape[0] / 10, size=(1, 1))[0][0]\n",
    "    cut2 = np.random.randint(y.shape[0] / 10, size=(1, 1))[0][0]\n",
    "    clients[i]=list(np.concatenate(((temp_array[i][:cut]).index , (temp_array[i+1][:cut2]).index), axis=0))\n",
    "    clients[i+1]=list(np.concatenate(((temp_array[i][cut:]).index , (temp_array[i+1][cut2:]).index), axis=0))\n",
    "        \n",
    "\n",
    "        \n",
    "for i in range(10):\n",
    "    print(len(clients[i]))\n",
    "    y[clients[i]].reset_index(drop=True).to_csv(f'../data/{data}/non_iid_unbalanced/client'+str(i+1)+'_y_train.csv')\n",
    "    X.iloc[clients[i]].reset_index(drop=True).to_csv(f'../data/{data}/non_iid_unbalanced/client'+str(i+1)+'_X_train.csv')"
   ]
  },
  {
   "cell_type": "code",
   "execution_count": null,
   "id": "latter-calendar",
   "metadata": {},
   "outputs": [],
   "source": []
  }
 ],
 "metadata": {
  "kernelspec": {
   "display_name": "Python 3",
   "language": "python",
   "name": "python3"
  },
  "language_info": {
   "codemirror_mode": {
    "name": "ipython",
    "version": 3
   },
   "file_extension": ".py",
   "mimetype": "text/x-python",
   "name": "python",
   "nbconvert_exporter": "python",
   "pygments_lexer": "ipython3",
   "version": "3.8.2"
  },
  "pycharm": {
   "stem_cell": {
    "cell_type": "raw",
    "metadata": {
     "collapsed": false
    },
    "source": []
   }
  },
  "toc": {
   "base_numbering": 1,
   "nav_menu": {},
   "number_sections": true,
   "sideBar": true,
   "skip_h1_title": false,
   "title_cell": "Table of Contents",
   "title_sidebar": "Contents",
   "toc_cell": false,
   "toc_position": {},
   "toc_section_display": true,
   "toc_window_display": false
  },
  "varInspector": {
   "cols": {
    "lenName": 16,
    "lenType": 16,
    "lenVar": 40
   },
   "kernels_config": {
    "python": {
     "delete_cmd_postfix": "",
     "delete_cmd_prefix": "del ",
     "library": "var_list.py",
     "varRefreshCmd": "print(var_dic_list())"
    },
    "r": {
     "delete_cmd_postfix": ") ",
     "delete_cmd_prefix": "rm(",
     "library": "var_list.r",
     "varRefreshCmd": "cat(var_dic_list()) "
    }
   },
   "types_to_exclude": [
    "module",
    "function",
    "builtin_function_or_method",
    "instance",
    "_Feature"
   ],
   "window_display": false
  }
 },
 "nbformat": 4,
 "nbformat_minor": 5
}
