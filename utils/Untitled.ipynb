{
 "cells": [
  {
   "cell_type": "code",
   "execution_count": 1,
   "id": "elegant-relative",
   "metadata": {},
   "outputs": [],
   "source": [
    "data = 'cifar_10'"
   ]
  },
  {
   "cell_type": "code",
   "execution_count": 2,
   "id": "electoral-honduras",
   "metadata": {},
   "outputs": [],
   "source": [
    "import pandas as pd\n",
    "import numpy as np\n",
    "from sklearn.model_selection import StratifiedKFold\n",
    "\n",
    "X = pd.read_csv(f'../data/{data}/train.csv',index_col=0)\n",
    "y = X['label']\n",
    "X.drop('label',inplace=True,axis=1)"
   ]
  },
  {
   "cell_type": "code",
   "execution_count": 3,
   "id": "hired-device",
   "metadata": {},
   "outputs": [
    {
     "name": "stdout",
     "output_type": "stream",
     "text": [
      "Label:  0  Total num:  5000\n",
      "Label:  1  Total num:  5000\n",
      "Label:  2  Total num:  5000\n",
      "Label:  3  Total num:  5000\n",
      "Label:  4  Total num:  5000\n",
      "Label:  5  Total num:  5000\n",
      "Label:  6  Total num:  5000\n",
      "Label:  7  Total num:  5000\n",
      "Label:  8  Total num:  5000\n",
      "Label:  9  Total num:  5000\n"
     ]
    }
   ],
   "source": [
    "#balanced\n",
    "clients = [[] for i in range(10)]\n",
    "for i in range(10):\n",
    "    print('Label: ',i,' Total num: ',len(list(np.array(y[y ==i]))))\n",
    "    temp_array = np.array(y[y ==i].index)\n",
    "    np.random.shuffle(temp_array)\n",
    "    temp_array_2= np.array_split(temp_array, 10)\n",
    "    for j in range(10):\n",
    "        clients[j]+= (list(temp_array_2[j]))\n",
    "for i in range(10):\n",
    "    y[clients[i]].reset_index(drop=True).to_csv(f'../data/{data}/balanced/client'+str(i+1)+'_y_train.csv')\n",
    "    X.iloc[clients[i]].reset_index(drop=True).to_csv(f'../data/{data}/balanced/client'+str(i+1)+'_X_train.csv')"
   ]
  },
  {
   "cell_type": "code",
   "execution_count": 3,
   "id": "waiting-monthly",
   "metadata": {},
   "outputs": [],
   "source": [
    "#iid\n",
    "rand_array = np.array(y.index)\n",
    "np.random.shuffle(rand_array)\n",
    "clients = [[] for i in range(10)]\n",
    "for i in range(10):\n",
    "    clients[i] = list(rand_array[i*5000:(i+1)*5000])\n",
    "    \n",
    "for i in range(10):\n",
    "    y[clients[i]].reset_index(drop=True).to_csv(f'../data/{data}/iid/client'+str(i+1)+'_y_train.csv')\n",
    "    X.iloc[clients[i]].reset_index(drop=True).to_csv(f'../data/{data}/iid/client'+str(i+1)+'_X_train.csv')"
   ]
  },
  {
   "cell_type": "code",
   "execution_count": 3,
   "id": "agricultural-boost",
   "metadata": {},
   "outputs": [
    {
     "name": "stdout",
     "output_type": "stream",
     "text": [
      "{0, 1}\n",
      "{0, 1}\n",
      "{2, 3}\n",
      "{2, 3}\n",
      "{4, 5}\n",
      "{4, 5}\n",
      "{6, 7}\n",
      "{6, 7}\n",
      "{8, 9}\n",
      "{8, 9}\n"
     ]
    }
   ],
   "source": [
    "#non-iid\n",
    "first = []\n",
    "second = []\n",
    "temp_array = np.array_split(y.sort_values(),20)\n",
    "for i in range(len(temp_array)):\n",
    "    if i % 2 == 0:\n",
    "        first.append(temp_array[i])\n",
    "    else:\n",
    "        second.append(temp_array[i])\n",
    "        \n",
    "index_first = 0\n",
    "index_second = 0\n",
    "clients = [[] for i in range(10)]\n",
    "for i in range(10):\n",
    "    if i % 2 == 0:\n",
    "        print(set(np.concatenate((first[index_first], first[index_first+1]), axis=0)))\n",
    "        clients[i] = list(np.concatenate((first[index_first].index, first[index_first+1].index), axis=0))\n",
    "        index_first+=2\n",
    "    else:\n",
    "        print(set(np.concatenate((second[index_second], second[index_second+1]), axis=0)))\n",
    "        clients[i] = list(np.concatenate((second[index_second].index, second[index_second+1].index), axis=0))\n",
    "        index_second+=2\n",
    "        \n",
    "for i in range(10):\n",
    "    y[clients[i]].reset_index(drop=True).to_csv(f'../data/{data}/non_iid/client'+str(i+1)+'_y_train.csv')\n",
    "    X.iloc[clients[i]].reset_index(drop=True).to_csv(f'../data/{data}/non_iid/client'+str(i+1)+'_X_train.csv')"
   ]
  },
  {
   "cell_type": "code",
   "execution_count": null,
   "id": "separate-probe",
   "metadata": {},
   "outputs": [],
   "source": []
  }
 ],
 "metadata": {
  "kernelspec": {
   "display_name": "Python 3",
   "language": "python",
   "name": "python3"
  },
  "language_info": {
   "codemirror_mode": {
    "name": "ipython",
    "version": 3
   },
   "file_extension": ".py",
   "mimetype": "text/x-python",
   "name": "python",
   "nbconvert_exporter": "python",
   "pygments_lexer": "ipython3",
   "version": "3.8.2"
  },
  "pycharm": {
   "stem_cell": {
    "cell_type": "raw",
    "source": [],
    "metadata": {
     "collapsed": false
    }
   }
  },
  "toc": {
   "base_numbering": 1,
   "nav_menu": {},
   "number_sections": true,
   "sideBar": true,
   "skip_h1_title": false,
   "title_cell": "Table of Contents",
   "title_sidebar": "Contents",
   "toc_cell": false,
   "toc_position": {},
   "toc_section_display": true,
   "toc_window_display": false
  },
  "varInspector": {
   "cols": {
    "lenName": 16,
    "lenType": 16,
    "lenVar": 40
   },
   "kernels_config": {
    "python": {
     "delete_cmd_postfix": "",
     "delete_cmd_prefix": "del ",
     "library": "var_list.py",
     "varRefreshCmd": "print(var_dic_list())"
    },
    "r": {
     "delete_cmd_postfix": ") ",
     "delete_cmd_prefix": "rm(",
     "library": "var_list.r",
     "varRefreshCmd": "cat(var_dic_list()) "
    }
   },
   "types_to_exclude": [
    "module",
    "function",
    "builtin_function_or_method",
    "instance",
    "_Feature"
   ],
   "window_display": false
  }
 },
 "nbformat": 4,
 "nbformat_minor": 5
}